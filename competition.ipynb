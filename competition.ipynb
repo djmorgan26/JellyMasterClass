{
 "cells": [
  {
   "cell_type": "markdown",
   "metadata": {},
   "source": [
    "### Downloads all Files"
   ]
  },
  {
   "cell_type": "markdown",
   "metadata": {},
   "source": [
    "This is commented out because it's already been done."
   ]
  },
  {
   "cell_type": "code",
   "execution_count": null,
   "metadata": {},
   "outputs": [
    {
     "name": "stderr",
     "output_type": "stream",
     "text": [
      "  % Total    % Received % Xferd  Average Speed   Time    Time     Time  Current\n",
      "                                 Dload  Upload   Total   Spent    Left  Speed\n",
      "\n",
      "  0     0    0     0    0     0      0      0 --:--:-- --:--:-- --:--:--     0\n",
      "100 25483  100 25483    0     0  76784      0 --:--:-- --:--:-- --:--:-- 77455\n",
      "  % Total    % Received % Xferd  Average Speed   Time    Time     Time  Current\n",
      "                                 Dload  Upload   Total   Spent    Left  Speed\n",
      "\n",
      "  0     0    0     0    0     0      0      0 --:--:-- --:--:-- --:--:--     0\n",
      "100 49968  100 49968    0     0   172k      0 --:--:-- --:--:-- --:--:--  173k\n",
      "  % Total    % Received % Xferd  Average Speed   Time    Time     Time  Current\n",
      "                                 Dload  Upload   Total   Spent    Left  Speed\n",
      "\n",
      "  0     0    0     0    0     0      0      0 --:--:-- --:--:-- --:--:--     0\n",
      "100  8120  100  8120    0     0  35924      0 --:--:-- --:--:-- --:--:-- 36088\n",
      "100  8120  100  8120    0     0  35903      0 --:--:-- --:--:-- --:--:-- 36088\n",
      "  % Total    % Received % Xferd  Average Speed   Time    Time     Time  Current\n",
      "                                 Dload  Upload   Total   Spent    Left  Speed\n",
      "\n",
      "  0     0    0     0    0     0      0      0 --:--:-- --:--:-- --:--:--     0\n",
      "  3  808k    3 32768    0     0  35436      0  0:00:23 --:--:--  0:00:23 35463\n",
      "100  808k  100  808k    0     0   645k      0  0:00:01  0:00:01 --:--:--  647k\n",
      "  % Total    % Received % Xferd  Average Speed   Time    Time     Time  Current\n",
      "                                 Dload  Upload   Total   Spent    Left  Speed\n",
      "\n",
      "  0     0    0     0    0     0      0      0 --:--:-- --:--:-- --:--:--     0\n",
      "100  269k  100  269k    0     0   565k      0 --:--:-- --:--:-- --:--:--  567k\n"
     ]
    }
   ],
   "source": [
    "\"\"\"\n",
    "!curl -o helper_functions.py https://raw.githubusercontent.com/jakesanghavi/TDP_March_Tournament_2025/main/helper_functions.py\n",
    "!curl -o logos.csv https://raw.githubusercontent.com/jakesanghavi/TDP_March_Tournament_2025/main/logos.csv\n",
    "!curl -o ncaa_name_mapper.csv https://raw.githubusercontent.com/jakesanghavi/TDP_March_Tournament_2025/main/ncaa_name_mapper.csv\n",
    "!curl -o tournament_data.csv https://raw.githubusercontent.com/jakesanghavi/TDP_March_Tournament_2025/main/tournament_data.csv\n",
    "!curl -o Arial.ttf https://raw.githubusercontent.com/jakesanghavi/TDP_March_Tournament_2025/main/Arial.ttf\"\n",
    "\"\"\"\""
   ]
  },
  {
   "cell_type": "markdown",
   "metadata": {},
   "source": [
    "#### Load in Helper Functions and Import Packages"
   ]
  },
  {
   "cell_type": "code",
   "execution_count": 2,
   "metadata": {},
   "outputs": [],
   "source": [
    "from helper_functions import *\n",
    "import pandas as pd\n",
    "import sweetviz as sv"
   ]
  },
  {
   "cell_type": "markdown",
   "metadata": {},
   "source": [
    "####  Data Preprocessing"
   ]
  },
  {
   "cell_type": "code",
   "execution_count": 3,
   "metadata": {},
   "outputs": [],
   "source": [
    "# Start off by reading in the data, and get started with your modeling!\n",
    "data = pd.read_csv('tournament_data.csv')"
   ]
  },
  {
   "cell_type": "code",
   "execution_count": 4,
   "metadata": {},
   "outputs": [],
   "source": [
    "#create a function that gets the column names that are not written like the rest\n",
    "def wrong_name(x):\n",
    "    bad=[]\n",
    "    for f in x:\n",
    "        if not (f.startswith('Team')):\n",
    "            bad.append(f)\n",
    "    return bad"
   ]
  },
  {
   "cell_type": "code",
   "execution_count": 5,
   "metadata": {},
   "outputs": [
    {
     "data": {
      "text/plain": [
       "['Season',\n",
       " 'Round',\n",
       " 'RegionTeamA',\n",
       " 'RegionTeamB',\n",
       " 'SeedTeamA',\n",
       " 'SeedTeamB',\n",
       " 'ScoreTeamA',\n",
       " 'ScoreTeamB',\n",
       " 'TotG',\n",
       " 'TotW',\n",
       " 'TotL',\n",
       " 'NeutralG',\n",
       " 'WinPct',\n",
       " 'TotG.1',\n",
       " 'TotW.1',\n",
       " 'TotL.1',\n",
       " 'NeutralG.1',\n",
       " 'WinPct.1',\n",
       " 'ResultTeamA']"
      ]
     },
     "execution_count": 5,
     "metadata": {},
     "output_type": "execute_result"
    }
   ],
   "source": [
    "og_columns=list(data.columns)\n",
    "wrong_name(og_columns)"
   ]
  },
  {
   "cell_type": "code",
   "execution_count": 6,
   "metadata": {},
   "outputs": [
    {
     "data": {
      "text/plain": [
       "['Season', 'Round']"
      ]
     },
     "execution_count": 6,
     "metadata": {},
     "output_type": "execute_result"
    }
   ],
   "source": [
    "#rename undesired columns\n",
    "column_rename={'RegionTeamA':'TeamA_Region','RegionTeamB':'TeamB_Region','SeedTeamA':'TeamA_Seed',\n",
    "               'SeedTeamB':'TeamB_Seed','ScoreTeamA':'TeamA_Score','ScoreTeamB':'TeamB_Score','TotG':'TeamA_TotG','TotW':'TeamA_TotW',\n",
    "               'TotL':'TeamA_TotL','NeutralG':'TeamA_NeutralG','WinPct':'TeamA_WinPct','TotG.1':'TeamB_TotG.1','TotW.1':'TeamB_TotW.1',\n",
    "               'TotL.1':'TeamB_TotL.1','NeutralG.1':'TeamB_NeutralG.1','WinPct.1':'TeamB_WinPct.1','ResultTeamA':'TeamA_Result'}\n",
    "data.rename(column_rename,axis=1,inplace=True)\n",
    "#double check that columns are renamed. Only outputs should be Season and Round\n",
    "wrong_name(list(data.columns))"
   ]
  },
  {
   "cell_type": "code",
   "execution_count": 7,
   "metadata": {},
   "outputs": [
    {
     "data": {
      "text/plain": [
       "'\\nauto_report = sv.analyze(data,\\'TeamA_Result\\')\\nauto_report.show_html()\"\\n'"
      ]
     },
     "execution_count": 7,
     "metadata": {},
     "output_type": "execute_result"
    }
   ],
   "source": [
    "#autoviz graph report\n",
    "#commented out because, the html file has already been generated\n",
    "\"\"\"\n",
    "auto_report = sv.analyze(data,'TeamA_Result')\n",
    "auto_report.show_html()\"\n",
    "\"\"\""
   ]
  },
  {
   "cell_type": "markdown",
   "metadata": {},
   "source": [
    "### Key Takeaways from Graphs\n",
    "Columns that matter: Round -team A always wins at round 0,\n",
    "\n",
    "\n",
    "Doesn't matter: Season, TeamA_Region, TeamB_Region, TeamB\n",
    "\n",
    "\n",
    "Potentially useful: TeamA (don't include TeamB since it would be overfitting), TeamA_Seed and TeamB_Seed(high correlation with round)\n",
    "\n",
    "\n",
    "Highest absolute correlation with target column: \n",
    "TeamB_Score            -0.439804\n",
    "\n",
    "TeamA_Score             0.304295\n",
    "\n",
    "TeamB_Seed              0.174414\n",
    "\n",
    "TeamB_HomeW            -0.136270\n",
    "\n",
    "TeamB_NeutralL         -0.111010\n",
    "\n",
    "TeamB_TotBlk           -0.100748\n",
    "\n",
    "TeamB_TotFGM           -0.097671\n",
    "\n",
    "TeamB_AwayL             0.097506\n",
    "\n",
    "TeamB_AvgTotBlk        -0.090055\n",
    "\n",
    "TeamB_TotFGA           -0.089728\n",
    "\n",
    "TeamB_TotAst           -0.089327\n",
    "\n",
    "TeamA_AvgTotOppStl     -0.085053\n",
    "\n",
    "TeamB_TotScore         -0.081266\n",
    "\n",
    "TeamA_TotW              0.077743\n",
    "\n",
    "TeamB_TotStl           -0.076735\n",
    "\n",
    "TeamA_WinPct            0.075789\n",
    "\n",
    "TeamA_AwayW             0.074285\n",
    "\n",
    "TeamB_AvgTotFGM        -0.071465\n",
    "\n",
    "TeamA_AvgTotOppAst     -0.070850\n",
    "\n",
    "TeamB_TotG.1           -0.070380\n",
    "\n",
    "TeamA_AvgTotTO         -0.070164\n",
    "\n",
    "TeamA_TotL             -0.069718\n",
    "\n",
    "Round                  -0.069691\n",
    "\n",
    "TeamA_NeutralL         -0.069198\n",
    "\n",
    "TeamB_TotW.1           -0.068959\n",
    "\n",
    "TeamA_AvgTotOppScore   -0.068904\n",
    "\n",
    "TeamA_TotOppStl        -0.067962\n",
    "\n",
    "TeamA_NeutralW          0.066970\n",
    "\n",
    "TeamB_TotOR            -0.066170\n",
    "\n",
    "TeamB_TotOppBlk        -0.063248\n",
    "\n",
    "TeamB_AvgTotAst        -0.063244\n",
    "\n",
    "TeamA_HomeL            -0.061691\n",
    "\n",
    "TeamB_AvgTotFGA        -0.059754\n",
    "\n",
    "TeamA_AvgTotOppFGM3    -0.057773\n",
    "\n",
    "TeamB_TotOppFGA        -0.056366\n",
    "\n",
    "TeamB_TotOppAst        -0.055578\n",
    "\n",
    "TeamB_NeutralG.1       -0.054396\n",
    "\n",
    "TeamB_AvgTotStl        -0.054200\n",
    "\n",
    "TeamB_TotDR            -0.053619\n",
    "\n",
    "TeamB_TotOppFGA3       -0.053285\n",
    "\n",
    "TeamA_AvgTotPF         -0.053174\n",
    "\n",
    "TeamA_AvgTotOppFGA3    -0.052860\n",
    "\n",
    "TeamA_AvgTotOppFTM     -0.052099\n",
    "\n",
    "TeamA_AvgTotOppBlk     -0.051065\n",
    "\n",
    "TeamA_TotTO            -0.050772\n",
    "\n",
    "TeamA_TotOppAst        -0.050326\n",
    "\n",
    "TeamA_AvgTotOppFGA     -0.050140"
   ]
  },
  {
   "cell_type": "code",
   "execution_count": 44,
   "metadata": {},
   "outputs": [
    {
     "name": "stderr",
     "output_type": "stream",
     "text": [
      "C:\\Users\\cohen\\AppData\\Local\\Temp\\ipykernel_27000\\3892363644.py:1: FutureWarning: The default value of numeric_only in DataFrame.corr is deprecated. In a future version, it will default to False. Select only valid columns or specify the value of numeric_only to silence this warning.\n",
      "  target_corrs=abs(data.corr()['TeamA_Result'])\n",
      "C:\\Users\\cohen\\AppData\\Local\\Temp\\ipykernel_27000\\3892363644.py:3: FutureWarning: The default value of numeric_only in DataFrame.corr is deprecated. In a future version, it will default to False. Select only valid columns or specify the value of numeric_only to silence this warning.\n",
      "  data.corr()['TeamA_Result'].loc[above5]\n"
     ]
    },
    {
     "data": {
      "text/plain": [
       "TeamA_Result            1.000000\n",
       "TeamB_Score            -0.439804\n",
       "TeamA_Score             0.304295\n",
       "TeamB_Seed              0.174414\n",
       "TeamB_HomeW            -0.136270\n",
       "TeamB_NeutralL         -0.111010\n",
       "TeamB_TotBlk           -0.100748\n",
       "TeamB_TotFGM           -0.097671\n",
       "TeamB_AwayL             0.097506\n",
       "TeamB_AvgTotBlk        -0.090055\n",
       "TeamB_TotFGA           -0.089728\n",
       "TeamB_TotAst           -0.089327\n",
       "TeamA_AvgTotOppStl     -0.085053\n",
       "TeamB_TotScore         -0.081266\n",
       "TeamA_TotW              0.077743\n",
       "TeamB_TotStl           -0.076735\n",
       "TeamA_WinPct            0.075789\n",
       "TeamA_AwayW             0.074285\n",
       "TeamB_AvgTotFGM        -0.071465\n",
       "TeamA_AvgTotOppAst     -0.070850\n",
       "TeamB_TotG.1           -0.070380\n",
       "TeamA_AvgTotTO         -0.070164\n",
       "TeamA_TotL             -0.069718\n",
       "Round                  -0.069691\n",
       "TeamA_NeutralL         -0.069198\n",
       "TeamB_TotW.1           -0.068959\n",
       "TeamA_AvgTotOppScore   -0.068904\n",
       "TeamA_TotOppStl        -0.067962\n",
       "TeamA_NeutralW          0.066970\n",
       "TeamB_TotOR            -0.066170\n",
       "TeamB_TotOppBlk        -0.063248\n",
       "TeamB_AvgTotAst        -0.063244\n",
       "TeamA_HomeL            -0.061691\n",
       "TeamB_AvgTotFGA        -0.059754\n",
       "TeamA_AvgTotOppFGM3    -0.057773\n",
       "TeamB_TotOppFGA        -0.056366\n",
       "TeamB_TotOppAst        -0.055578\n",
       "TeamB_NeutralG.1       -0.054396\n",
       "TeamB_AvgTotStl        -0.054200\n",
       "TeamB_TotDR            -0.053619\n",
       "TeamB_TotOppFGA3       -0.053285\n",
       "TeamA_AvgTotPF         -0.053174\n",
       "TeamA_AvgTotOppFGA3    -0.052860\n",
       "TeamA_AvgTotOppFTM     -0.052099\n",
       "TeamA_AvgTotOppBlk     -0.051065\n",
       "TeamA_TotTO            -0.050772\n",
       "TeamA_TotOppAst        -0.050326\n",
       "TeamA_AvgTotOppFGA     -0.050140\n",
       "Name: TeamA_Result, dtype: float64"
      ]
     },
     "execution_count": 44,
     "metadata": {},
     "output_type": "execute_result"
    }
   ],
   "source": [
    "target_corrs=abs(data.corr()['TeamA_Result'])\n",
    "above5=target_corrs[target_corrs >0.05].sort_values(ascending=False).index\n",
    "data.corr()['TeamA_Result'].loc[above5]"
   ]
  },
  {
   "cell_type": "code",
   "execution_count": 37,
   "metadata": {},
   "outputs": [
    {
     "data": {
      "text/plain": [
       "'Use this as test_Y instead if doing regression'"
      ]
     },
     "execution_count": 37,
     "metadata": {},
     "output_type": "execute_result"
    }
   ],
   "source": [
    "# Classification\n",
    "train = data[data['Season'] < 2024].drop(columns=['Season'])\n",
    "train_teams = train[['TeamA', 'TeamB']]\n",
    "train_X = train.drop(columns=['TeamA_Region', 'TeamB_Region', 'TeamA', 'TeamB', 'TeamA_Result', 'TeamA_Score', 'TeamB_Score'])\n",
    "train_Y = train['TeamA_Result']\n",
    "'''Use this instead as train_Y if doing regression'''\n",
    "# train_Y = train[['ScoreTeamA', 'ScoreTeamB']]\n",
    "# Classification\n",
    "test = data[data['Season'] == 2024].drop(columns=['Season'])\n",
    "test_teams = test[['TeamA', 'TeamB']]\n",
    "test_X = test.drop(columns=['TeamA_Region', 'TeamB_Region', 'TeamA', 'TeamB', 'TeamA_Result', 'TeamA_Score', 'TeamB_Score'])\n",
    "test_Y = test['TeamA_Result']\n",
    "\n",
    "'''Use this as test_Y instead if doing regression'''\n",
    "# test_Y = test[['ScoreTeamA', 'ScoreTeamB']]"
   ]
  }
 ],
 "metadata": {
  "kernelspec": {
   "display_name": "sweetviz",
   "language": "python",
   "name": "python3"
  },
  "language_info": {
   "codemirror_mode": {
    "name": "ipython",
    "version": 3
   },
   "file_extension": ".py",
   "mimetype": "text/x-python",
   "name": "python",
   "nbconvert_exporter": "python",
   "pygments_lexer": "ipython3",
   "version": "3.9.19"
  }
 },
 "nbformat": 4,
 "nbformat_minor": 2
}
